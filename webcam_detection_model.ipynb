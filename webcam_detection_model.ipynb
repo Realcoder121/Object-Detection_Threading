{
  "nbformat": 4,
  "nbformat_minor": 0,
  "metadata": {
    "colab": {
      "provenance": [],
      "authorship_tag": "ABX9TyN1UhZRAppgvU8Rh40Tny6c",
      "include_colab_link": true
    },
    "kernelspec": {
      "name": "python3",
      "display_name": "Python 3"
    },
    "language_info": {
      "name": "python"
    }
  },
  "cells": [
    {
      "cell_type": "markdown",
      "metadata": {
        "id": "view-in-github",
        "colab_type": "text"
      },
      "source": [
        "<a href=\"https://colab.research.google.com/github/Realcoder121/Object-Detection_Threading/blob/main/webcam_detection_model.ipynb\" target=\"_parent\"><img src=\"https://colab.research.google.com/assets/colab-badge.svg\" alt=\"Open In Colab\"/></a>"
      ]
    },
    {
      "cell_type": "markdown",
      "source": [
        "Main: Video Capturing"
      ],
      "metadata": {
        "id": "nvQt1pjpvSOG"
      }
    },
    {
      "cell_type": "code",
      "source": [
        "import cv2\n",
        "import time\n",
        "from google.colab.patches import cv2_imshow\n",
        "import glob\n",
        "import os\n",
        "import threading import Thread\n",
        "\n",
        "video = cv2.VideoCapture(0)\n",
        "time.sleep(1)\n",
        "initial_frame = None\n",
        "status_list = []\n",
        "count = 1\n",
        "def clean_folder():\n",
        "  images = glob.glob(\"images/*.png\")\n",
        "  for image in images:\n",
        "    os.remove(image)\n",
        "\n",
        "while True:\n",
        "  status = 0\n",
        "  check,frame = video.read()\n",
        "  gray_frame = cv2.cvtColor(frame,cv2.COLOR_BGR2GRAY)\n",
        "  gray_frame_gaussian = cv2.GaussianBlur(gray_frame,(21,21),0)\n",
        "  if initial_frame is None:\n",
        "    initial_frame = gray_frame_gaussian\n",
        "  delta_frame = cv2.absdiff(initial_frame,gray_frame_gaussian)\n",
        "  thresh_frame = cv2.threshold(delta_frame,50,255,cv2.THRESH_BINARY)[1]\n",
        "  dil_frame = cv2.dilate(thresh_frame,None,iterations = 2)\n",
        "  cv2.imshow(\"Incoming Video\",dil_frame)\n",
        "  contours,check = cv2.findContours(dil_frame,cv2.RETR_EXTERNAL,cv2.CHAIN_APPROX_SIMPLE)\n",
        "  for contour in contours:\n",
        "    if cv2.contourArea(contour)<5000:\n",
        "      continue\n",
        "    x,y,w,h = cv2.boundingRect(contour)\n",
        "    rectangle = cv2.rectangle(frame,(x,y),(x+w,y+h),(0,0,255),3)\n",
        "    if rectangle.any():\n",
        "      status = 1\n",
        "      cv2.imwrite(f\"images/{count}.png\",frame)\n",
        "      count = count+1\n",
        "      all_images = glob.glob(\"images/*.png\")\n",
        "      index = int(len(all_images)/2)\n",
        "      image_with_object = all_images[index]\n",
        "      \n",
        "  status_list.append(status)\n",
        "  status_list = status_list[-2:]\n",
        "  if status_list[0] == 1 and status_list[1] == 0:\n",
        "    email_thread = Thread(target = send_email,args = (image_with_object,))\n",
        "    email_thread.daemon = True\n",
        "    clean_thread = Thread(target = clean_folder)\n",
        "    clean_thread.daemon = True\n",
        "    email_thread.start()\n",
        "    clean_thread.start()\n",
        "  print(status_list)\n",
        "  cv2.imshow(\"Video\",frame)\n",
        "  key = cv2.waitKey(1)\n",
        "  if (key == ord(\"b\")):\n",
        "    break\n",
        "video.release()\n"
      ],
      "metadata": {
        "id": "g-CbdRZuvUi4"
      },
      "execution_count": null,
      "outputs": []
    },
    {
      "cell_type": "code",
      "source": [
        "import smtplib\n",
        "import imghdr\n",
        "from email.message import EmailMessage\n",
        "PASSWORD =\n",
        "SENDER = \n",
        "RECEIVER =  \n",
        "def send_email(image_path):\n",
        "  email_message = EmailMessage()\n",
        "  email_message[\"Subject\"] = \"Hi New Customer\"\n",
        "  email_message.set_content(\"Hello. Welcome to Our Store\")\n",
        "  with open(image_path,\"rb\") as file:\n",
        "    content = file.read()\n",
        "  email_message.add_attachment(content,maintype = 'image',subtype = imghdr.what(None,content))\n",
        "  gmail = smtplib.SMTP(\"smtp.gmail.com\",587)\n",
        "  gmail.ehlo()\n",
        "  gmail.starttls()\n",
        "  gmail.login(SENDER,PASSWORD)\n",
        "  gmail.sendmail(SENDER,RECEIVER,email_message.as_string())\n",
        "  gmail.quit()\n",
        "if __name__ == \"__main__\":\n",
        "  send_email(image.path = \"images/19.png\")\n",
        "\n"
      ],
      "metadata": {
        "id": "Cwtb0BaNCCQX"
      },
      "execution_count": null,
      "outputs": []
    },
    {
      "cell_type": "code",
      "source": [],
      "metadata": {
        "id": "s_5CjUH8B85l"
      },
      "execution_count": null,
      "outputs": []
    }
  ]
}